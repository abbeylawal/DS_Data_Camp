{
 "cells": [
  {
   "cell_type": "markdown",
   "metadata": {},
   "source": [
    "## 2.1 PMF"
   ]
  },
  {
   "cell_type": "markdown",
   "metadata": {},
   "source": [
    "### 2.1.1 Make a PMF"
   ]
  },
  {
   "cell_type": "markdown",
   "metadata": {},
   "source": [
    "The GSS dataset has been pre-loaded for you into a DataFrame called `gss`. You can explore it in the IPython Shell to get familiar with it.\n",
    "\n",
    "In this exercise, you’ll focus on one variable in this dataset, `‘year’`, which represents the year each respondent was interviewed.\n",
    "\n",
    "The `Pmf` class you saw in the video has already been created for you. You can access it outside of DataCamp via the [empiricaldist](https://pypi.org/project/empiricaldist/) library."
   ]
  },
  {
   "cell_type": "code",
   "execution_count": 1,
   "metadata": {},
   "outputs": [
    {
     "ename": "ModuleNotFoundError",
     "evalue": "No module named 'empiricaldist'",
     "output_type": "error",
     "traceback": [
      "\u001b[1;31m---------------------------------------------------------------------------\u001b[0m",
      "\u001b[1;31mModuleNotFoundError\u001b[0m                       Traceback (most recent call last)",
      "\u001b[1;32mc:\\Users\\PD-GIS\\Documents\\ABBEY DOCS\\OneDrive\\Documents\\Z-Study Notebooks\\Jupyter Notebook\\Datacamp\\Data_Science_Tracks\\EDA with Python\\EDA_with_Python.ipynb Cell 4\u001b[0m in \u001b[0;36m<cell line: 2>\u001b[1;34m()\u001b[0m\n\u001b[0;32m      <a href='vscode-notebook-cell:/c%3A/Users/PD-GIS/Documents/ABBEY%20DOCS/OneDrive/Documents/Z-Study%20Notebooks/Jupyter%20Notebook/Datacamp/Data_Science_Tracks/EDA%20with%20Python/EDA_with_Python.ipynb#W0sZmlsZQ%3D%3D?line=0'>1</a>\u001b[0m \u001b[39mimport\u001b[39;00m \u001b[39mpandas\u001b[39;00m \u001b[39mas\u001b[39;00m \u001b[39mpd\u001b[39;00m\n\u001b[1;32m----> <a href='vscode-notebook-cell:/c%3A/Users/PD-GIS/Documents/ABBEY%20DOCS/OneDrive/Documents/Z-Study%20Notebooks/Jupyter%20Notebook/Datacamp/Data_Science_Tracks/EDA%20with%20Python/EDA_with_Python.ipynb#W0sZmlsZQ%3D%3D?line=1'>2</a>\u001b[0m \u001b[39mfrom\u001b[39;00m \u001b[39mempiricaldist\u001b[39;00m \u001b[39mimport\u001b[39;00m Pmf, Cdf\n\u001b[0;32m      <a href='vscode-notebook-cell:/c%3A/Users/PD-GIS/Documents/ABBEY%20DOCS/OneDrive/Documents/Z-Study%20Notebooks/Jupyter%20Notebook/Datacamp/Data_Science_Tracks/EDA%20with%20Python/EDA_with_Python.ipynb#W0sZmlsZQ%3D%3D?line=2'>3</a>\u001b[0m gss \u001b[39m=\u001b[39m pd\u001b[39m.\u001b[39mread_hdf(\u001b[39m\"\u001b[39m\u001b[39m/cloud/project/ExploratoryDataAnalysisinPython/gss.hdf5\u001b[39m\u001b[39m\"\u001b[39m, \u001b[39m\"\u001b[39m\u001b[39mgss\u001b[39m\u001b[39m\"\u001b[39m)\n",
      "\u001b[1;31mModuleNotFoundError\u001b[0m: No module named 'empiricaldist'"
     ]
    }
   ],
   "source": [
    "import pandas as pd\n",
    "from empiricaldist import Pmf, Cdf\n",
    "gss = pd.read_hdf(\"/cloud/project/ExploratoryDataAnalysisinPython/gss.hdf5\", \"gss\")"
   ]
  },
  {
   "cell_type": "code",
   "execution_count": null,
   "metadata": {},
   "outputs": [],
   "source": [
    "pmf_year = Pmf.from_seq(gss['year'], normalize=False)\n",
    "\n",
    "# Print the result\n",
    "print(pmf_year)"
   ]
  },
  {
   "cell_type": "code",
   "execution_count": null,
   "metadata": {},
   "outputs": [],
   "source": []
  }
 ],
 "metadata": {
  "kernelspec": {
   "display_name": "Python 3.10.5 64-bit",
   "language": "python",
   "name": "python3"
  },
  "language_info": {
   "codemirror_mode": {
    "name": "ipython",
    "version": 3
   },
   "file_extension": ".py",
   "mimetype": "text/x-python",
   "name": "python",
   "nbconvert_exporter": "python",
   "pygments_lexer": "ipython3",
   "version": "3.10.6"
  },
  "orig_nbformat": 4,
  "vscode": {
   "interpreter": {
    "hash": "4517f65f450b0d20a521ca5b306f7f3feef77e94f7def60b482b88f2033b2b63"
   }
  }
 },
 "nbformat": 4,
 "nbformat_minor": 2
}
