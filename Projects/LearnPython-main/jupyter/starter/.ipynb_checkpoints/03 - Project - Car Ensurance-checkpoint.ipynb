{
 "cells": [
  {
   "cell_type": "markdown",
   "id": "670902b5",
   "metadata": {},
   "source": [
    "# Project - Car Ensurance\n",
    "### Goal\n",
    "- Car ensurance calculation based on the following decision tree"
   ]
  },
  {
   "cell_type": "markdown",
   "id": "f654f0ba",
   "metadata": {},
   "source": [
    "![alt text](img/DecisionTree.png \"Title\")"
   ]
  },
  {
   "cell_type": "markdown",
   "id": "3d48721a",
   "metadata": {},
   "source": [
    "### Description\n",
    "- This is a fictional car insurance company called Car Crash\n",
    "- They calculate the yearly ensurance price based on the current market price of the car\n",
    "- Given the market price: market_price\n",
    "- Then the yearly ensurance price is 9% of the market_price if it is a male above 26 years old.\n",
    "- As we see in the decision tree, we have 4 possible price calculations.\n",
    "- Create a program, which takes input and based on that calculated the correct price for all 4 cases"
   ]
  },
  {
   "cell_type": "code",
   "execution_count": 14,
   "id": "cf8ec9e0",
   "metadata": {},
   "outputs": [
    {
     "name": "stdout",
     "output_type": "stream",
     "text": [
      "What is your Gender (M/F): f\n",
      "Female\n",
      "what type of car do you drive: (Sport/Non-sport)Sport\n",
      "sport car\n",
      "What is the current Market price of your car: 27650\n",
      "ensurance offer: 5806.5\n"
     ]
    }
   ],
   "source": [
    "'''\n",
    "Description\n",
    "    This is a fictional car insurance company called Car Crash\n",
    "    They calculate the yearly ensurance price based on the current market price of the car\n",
    "    Given the market price: market_price\n",
    "    Then the yearly ensurance price is 9% of the market_price if it is a male above 26 years old.\n",
    "    As we see in the decision tree, we have 4 possible price calculations.\n",
    "    Create a program, which takes input and based on that calculated the correct price for all 4 cases\n",
    "'''\n",
    "\n",
    "\n",
    "gender = input(\"What is your Gender (M/F): \")\n",
    "gender = gender.upper()\n",
    "if gender == \"M\":\n",
    "    print(\"Male\")\n",
    "    age = input(\"How old are you: \")\n",
    "    age = int(age)\n",
    "    if age<=26:\n",
    "        print(\"Less/equal to 26 years\")\n",
    "        percentage = 23\n",
    "    else:\n",
    "        print(\"More than 26\")\n",
    "        percentage = 9\n",
    "        \n",
    "elif gender == \"F\":\n",
    "    print(\"Female\")\n",
    "    car_type = input(\"what type of car do you drive: (Sport/Non-sport)\")\n",
    "    car_type = car_type.upper()\n",
    "    if car_type == \"SPORT\":\n",
    "        print(\"sport car\")\n",
    "        percentage = 21\n",
    "    else:\n",
    "        print(\"non_sports car\")\n",
    "        percentage = 10\n",
    "else:\n",
    "    print (\"Wrong format\")\n",
    "    percentage = None\n",
    "Market_price = input(\"What is the current Market price of your car: \")\n",
    "Market_price =int(Market_price)\n",
    "ensurance_offer = Market_price * percentage/100\n",
    "print (f\"ensurance offer: {ensurance_offer}\")\n"
   ]
  },
  {
   "cell_type": "code",
   "execution_count": 15,
   "id": "cda17e74",
   "metadata": {},
   "outputs": [
    {
     "name": "stdout",
     "output_type": "stream",
     "text": [
      "<class 'tuple'>\n"
     ]
    }
   ],
   "source": [
    "x = (\"apple\", \"banana\", \"cherry\")\n",
    "print(type(x))"
   ]
  }
 ],
 "metadata": {
  "kernelspec": {
   "display_name": "Python 3 (ipykernel)",
   "language": "python",
   "name": "python3"
  },
  "language_info": {
   "codemirror_mode": {
    "name": "ipython",
    "version": 3
   },
   "file_extension": ".py",
   "mimetype": "text/x-python",
   "name": "python",
   "nbconvert_exporter": "python",
   "pygments_lexer": "ipython3",
   "version": "3.9.12"
  }
 },
 "nbformat": 4,
 "nbformat_minor": 5
}
