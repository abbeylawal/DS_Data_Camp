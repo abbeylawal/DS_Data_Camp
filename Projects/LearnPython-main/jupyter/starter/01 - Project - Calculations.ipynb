{
 "cells": [
  {
   "cell_type": "markdown",
   "id": "78a28051",
   "metadata": {},
   "source": [
    "# Project - Calculations\n",
    "## Goal\n",
    "- Using Jupyter Notebook as a Calculator\n",
    "- Understand how cells keeps track of calcualtions"
   ]
  },
  {
   "cell_type": "markdown",
   "id": "f84fca1d",
   "metadata": {},
   "source": [
    "### Description\n",
    "- Create formulas\n",
    "- Have some fun with basic math"
   ]
  },
  {
   "cell_type": "markdown",
   "id": "0ff9d8c5",
   "metadata": {},
   "source": [
    "### Step 1\n",
    "- Make a convertion from **kg** to **lbs**\n",
    "- Use this formula: $lbs = kg \\times 2.2046$\n",
    "- Make the cell to use variables"
   ]
  },
  {
   "cell_type": "code",
   "execution_count": 4,
   "id": "138f5d76",
   "metadata": {},
   "outputs": [
    {
     "name": "stdout",
     "output_type": "stream",
     "text": [
      "how much do you weigh in kg?: 71\n",
      "you wiegh 156.5266 lbs\n"
     ]
    }
   ],
   "source": [
    "kg = input(\"how much do you weigh in kg?: \")\n",
    "kg = int(kg)\n",
    "lbs = kg*2.2046\n",
    "print(f\"you wiegh {lbs} lbs\")"
   ]
  },
  {
   "cell_type": "markdown",
   "id": "2d3be664",
   "metadata": {},
   "source": [
    "### Step 2\n",
    "- Make calculation of circumference of a circle\n",
    "- The cell should define the radius\n",
    "- Calculate the circumference by the formula: $c = 2 \\times \\pi \\times r$\n",
    "- Define $\\pi = 3.14$ (use variable name **pi**)\n",
    "- Let the cell return the circumference"
   ]
  },
  {
   "cell_type": "code",
   "execution_count": 9,
   "id": "d04920c0",
   "metadata": {},
   "outputs": [
    {
     "name": "stdout",
     "output_type": "stream",
     "text": [
      "Radius of the circle: 15\n",
      "circumference of circle = 94.2\n"
     ]
    }
   ],
   "source": [
    "#calulating the circumference of a circle\n",
    "radius = r = input(\"Radius of the circle: \")\n",
    "r = int(r)\n",
    "pi = 3.14\n",
    "c = 2*pi*r\n",
    "print(f\"circumference of circle = {c}\")"
   ]
  },
  {
   "cell_type": "markdown",
   "id": "88d73ba7",
   "metadata": {},
   "source": [
    "### Step 3\n",
    "1. Assign a variable to a any number (integer).\n",
    "2. Multiply the number by 3.\n",
    "3. Add 6 to the result from bullet 2.\n",
    "4. Divide this number by 3.\n",
    "5. Subtract the number from bullet 1 from the answer in bullet 4.\n",
    "6. The answer is 2."
   ]
  },
  {
   "cell_type": "code",
   "execution_count": 15,
   "id": "7dc5e923",
   "metadata": {},
   "outputs": [
    {
     "name": "stdout",
     "output_type": "stream",
     "text": [
      "your favorite number is?: 45\n"
     ]
    },
    {
     "data": {
      "text/plain": [
       "(135, 141, 47.0, 2.0)"
      ]
     },
     "execution_count": 15,
     "metadata": {},
     "output_type": "execute_result"
    }
   ],
   "source": [
    "'''\n",
    "Assign a variable to a any number (integer).\n",
    "Multiply the number by 3.\n",
    "Add 6 to the result from bullet 2.\n",
    "Divide this number by 3.\n",
    "Subtract the number from bullet 1 from the answer in bullet 4.\n",
    "The answer is 2.\n",
    "\n",
    "'''\n",
    "\n",
    "\n",
    "num=input(\"your favorite number is?: \")\n",
    "num = int(num)\n",
    "r1 = num*3\n",
    "r2 = (r1 + 6)\n",
    "r3 = (r2/3)\n",
    "r4 = (r3-num)\n",
    "r1,r2,r3,r4"
   ]
  }
 ],
 "metadata": {
  "kernelspec": {
   "display_name": "Python 3 (ipykernel)",
   "language": "python",
   "name": "python3"
  },
  "language_info": {
   "codemirror_mode": {
    "name": "ipython",
    "version": 3
   },
   "file_extension": ".py",
   "mimetype": "text/x-python",
   "name": "python",
   "nbconvert_exporter": "python",
   "pygments_lexer": "ipython3",
   "version": "3.9.12"
  }
 },
 "nbformat": 4,
 "nbformat_minor": 5
}
